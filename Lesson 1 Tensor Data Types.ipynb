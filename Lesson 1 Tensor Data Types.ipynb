{
 "cells": [
  {
   "cell_type": "code",
   "execution_count": 1,
   "metadata": {},
   "outputs": [],
   "source": [
    "# !pip install opencv-contrib-python    (OpenCV)\n",
    "\n",
    "# conda install -c conda-forge matplotlib  (Matplotlib Data Visualization Tools)\n",
    "\n",
    "# pip install tensorflow (Tensorflow 2.0)\n",
    "# conda install -c anaconda tensorflow-gpu  (Tensorflow GPU 2.1)"
   ]
  },
  {
   "cell_type": "markdown",
   "metadata": {},
   "source": [
    "# Tensorflow"
   ]
  },
  {
   "cell_type": "markdown",
   "metadata": {},
   "source": [
    "<img src=\"tensorflow.jpeg\">"
   ]
  },
  {
   "cell_type": "markdown",
   "metadata": {},
   "source": [
    "# TF 1. Vs 2. (Version)\n",
    "\n"
   ]
  },
  {
   "cell_type": "markdown",
   "metadata": {},
   "source": [
    "<img src=\"tf1vstf2.png\">"
   ]
  },
  {
   "cell_type": "markdown",
   "metadata": {},
   "source": [
    "With eager execution, **TensorFlow 2.0 adopts a radically different approach**\n",
    "and removes the need to execute most of the preceding steps.\n",
    "1. TensorFlow 2.0 doesn’t require the graph definition.\n",
    "2. TensorFlow 2.0 doesn’t require the session\n",
    "execution.\n",
    "3. TensorFlow 2.0 doesn’t make it mandatory to\n",
    "initialize variables.\n",
    "\n",
    "https://www.tensorflow.org/"
   ]
  },
  {
   "cell_type": "code",
   "execution_count": 5,
   "metadata": {},
   "outputs": [
    {
     "name": "stdout",
     "output_type": "stream",
     "text": [
      "2.1.0\n"
     ]
    }
   ],
   "source": [
    "import tensorflow as tf\n",
    "\n",
    "print(tf.__version__)"
   ]
  },
  {
   "cell_type": "markdown",
   "metadata": {},
   "source": [
    "# What is Tensor ?"
   ]
  },
  {
   "cell_type": "markdown",
   "metadata": {},
   "source": [
    "## Sclars, Vectors , Matrix , စတဲ့ data (dimensions) အမျိုးမျိုးကို\n",
    "## Store လုပ်ထားလို့ရတဲ့ Multi dimensional array container ကို Tensor လို့ခေါ်တယ်\n",
    "\n",
    "<img src=\"files/tensor.jpg\">"
   ]
  },
  {
   "cell_type": "markdown",
   "metadata": {},
   "source": [
    "# Tensor Ranking\n",
    "\n",
    "## Tensorflow မှာ တော့ Date types အမျိုးမျိုးကို Tensor Ranking တွေနဲ့ သတ်မှတ်လေ့ရှိကျတယ်\n",
    "\n"
   ]
  },
  {
   "cell_type": "markdown",
   "metadata": {},
   "source": [
    "<img src=\"rank_type.png\">"
   ]
  },
  {
   "cell_type": "markdown",
   "metadata": {},
   "source": [
    "# What is Scalar ?\n",
    "\n",
    "## Scalar data type ကို (အကြောင်းအရာ/အရာဝတ္ထုတစ်ခုရဲ့ Name, Number, Value စတဲ့ quantity တစ်ခုကို ဖော်ပြတဲ့ နေရာမှာ သုံးတယ်)\n",
    "## (eg. magnitude only)\n",
    "\n",
    "## Tensorflow မှာ Scalar ကို Zero Dimensional Array (Rank 0) အဖြစ်သတ်မှတ်ထားတယ်\n",
    "\n",
    "<img src=\"scalar.jpg\">\n"
   ]
  },
  {
   "cell_type": "code",
   "execution_count": 41,
   "metadata": {},
   "outputs": [
    {
     "name": "stdout",
     "output_type": "stream",
     "text": [
      "<tf.Variable 'Variable:0' shape=() dtype=string, numpy=b'wai yan'>\n",
      "<tf.Variable 'Variable:0' shape=() dtype=int32, numpy=18>\n"
     ]
    }
   ],
   "source": [
    "Name = \"wai yan\"\n",
    "Name = tf.Variable(\"wai yan\")\n",
    "\n",
    "Age = tf.Variable(18)\n",
    "\n",
    "\n",
    "print(Name)\n",
    "print(Age)\n",
    "\n",
    "\n"
   ]
  },
  {
   "cell_type": "code",
   "execution_count": 17,
   "metadata": {},
   "outputs": [
    {
     "data": {
      "text/plain": [
       "<tf.Tensor: shape=(), dtype=int32, numpy=0>"
      ]
     },
     "execution_count": 17,
     "metadata": {},
     "output_type": "execute_result"
    }
   ],
   "source": [
    "# country = tf.Variable('Myanmar')\n",
    "# speed = tf.Variable(100)\n",
    "# temperature = tf.Variable(23.5)\n",
    "# time = tf.Variable(5)\n",
    "\n",
    "\n",
    "# print(country)\n",
    "# print(speed)\n",
    "# print(time)\n",
    "# print(temperature)\n",
    "# print(\" \")\n",
    "\n",
    "\n"
   ]
  },
  {
   "cell_type": "markdown",
   "metadata": {},
   "source": [
    "# What is Vector ?\n",
    " \n",
    "## တစ်ခုထက်ပိုတဲ့ scalar quantity တွေကို သိမ်းဆည်းထားတဲ့ array ကိုတော့ Vector လို့ခေါ်တယ်\n",
    "\n",
    "## Vector တစ်ခုမှာ (scalar values အနဲဆုံး ၂ ခုပါဝင်ရမယ်)\n",
    "## (eg. magnitude , direction)\n",
    "\n",
    "## Vector မှာ values တွေကို row vector (သို့မဟုတ်) column vector တစ်ခု အနေနဲ့ သိမ်းလေ့ရှိတယ်\n",
    "\n",
    "## TF Ranking မှာ Vector ကိုတော့  One Dimensional Array ( Rank 1) အဖြစ်သတ်မှတ်ထားတယ်\n",
    "\n",
    "<img src=\"row_vector.jpg\">\n",
    "\n",
    "\n",
    "## row vector (or) column vector\n",
    "<img src=\"row_col.png\"> \n",
    "\n"
   ]
  },
  {
   "cell_type": "code",
   "execution_count": 10,
   "metadata": {},
   "outputs": [
    {
     "name": "stdout",
     "output_type": "stream",
     "text": [
      "<tf.Variable 'Variable:0' shape=(4,) dtype=string, numpy=array([b'Myanmar', b'Singapore', b'Vietnam', b'Malaysia'], dtype=object)>\n",
      "<tf.Variable 'Variable:0' shape=(1,) dtype=int32, numpy=array([100], dtype=int32)>\n",
      "<tf.Variable 'Variable:0' shape=(3,) dtype=float32, numpy=array([23.5, 22.4, 63. ], dtype=float32)>\n"
     ]
    }
   ],
   "source": [
    "country = ['Myanmar','Singapore','Vietnam','Malaysia']\n",
    "\n",
    "country = tf.Variable(['Myanmar','Singapore','Vietnam','Malaysia'])\n",
    "country\n",
    "\n",
    "# distance = tf.Variable([100],[130],[200])\n",
    "# temperature = tf.Variable([23.5,22.4,63])\n",
    "\n",
    "\n",
    "# print(country)\n",
    "# print(distance)\n",
    "# print(temperature)\n",
    "\n",
    "# # dist1 = ([100,200,300])\n",
    "# # dist1\n"
   ]
  }
 ],
 "metadata": {
  "kernelspec": {
   "display_name": "Python 3",
   "language": "python",
   "name": "python3"
  },
  "language_info": {
   "codemirror_mode": {
    "name": "ipython",
    "version": 3
   },
   "file_extension": ".py",
   "mimetype": "text/x-python",
   "name": "python",
   "nbconvert_exporter": "python",
   "pygments_lexer": "ipython3",
   "version": "3.7.6"
  }
 },
 "nbformat": 4,
 "nbformat_minor": 4
}
